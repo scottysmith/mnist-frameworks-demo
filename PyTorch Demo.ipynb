{
 "cells": [
  {
   "cell_type": "code",
   "execution_count": 1,
   "metadata": {},
   "outputs": [],
   "source": [
    "import torch\n",
    "import torch.nn as nn\n",
    "from torch.autograd import Variable\n",
    "import torchvision.datasets as dset\n",
    "import torchvision.transforms as transforms\n",
    "import torch.nn.functional as F\n",
    "import torch.optim as optim\n",
    "import numpy as np"
   ]
  },
  {
   "cell_type": "code",
   "execution_count": 2,
   "metadata": {},
   "outputs": [],
   "source": [
    "class Flatten(nn.Module):\n",
    "    def __init__(self):\n",
    "        super(Flatten, self).__init__()\n",
    "    \n",
    "    def forward(self, X):\n",
    "        X = X.view(X.size(0), -1)\n",
    "        return X\n",
    "\n",
    "class SimpleCNN(nn.Module):\n",
    "    def __init__(self):\n",
    "        super(SimpleCNN, self).__init__()\n",
    "        self.model = nn.Sequential(nn.Conv2d(1, 32, kernel_size=3),\n",
    "                                   nn.ReLU(),\n",
    "                                   nn.Conv2d(32, 64, kernel_size=3),\n",
    "                                   nn.MaxPool2d(2),\n",
    "                                   nn.Dropout(0.25),\n",
    "                                   Flatten(),\n",
    "                                   nn.Linear(9216, 128),\n",
    "                                   nn.Dropout(0.5),\n",
    "                                   nn.Linear(128, 10)\n",
    "                                  )\n",
    "    def forward(self, X):\n",
    "        X = self.model(X)\n",
    "        return X\n",
    "    \n"
   ]
  },
  {
   "cell_type": "code",
   "execution_count": 3,
   "metadata": {
    "scrolled": true
   },
   "outputs": [
    {
     "name": "stdout",
     "output_type": "stream",
     "text": [
      "Average train loss and accuracy: 0.453809, 0.915717\n",
      "Average test loss and accuracy: 0.132329, 0.959500\n"
     ]
    }
   ],
   "source": [
    "transform = transforms.Compose([\n",
    "                                transforms.ToTensor(), \n",
    "                                transforms.Normalize((0.5,), (1.0,))\n",
    "                               ])\n",
    "train_set = dset.MNIST(root='./data', train=True, \n",
    "                       transform=transform, download=True)\n",
    "test_set = dset.MNIST(root='./data', train=False, transform=transform)\n",
    "\n",
    "batch_size = 100\n",
    "train_loader = torch.utils.data.DataLoader(\n",
    "                 dataset=train_set,\n",
    "                 batch_size=batch_size,\n",
    "                 shuffle=True)\n",
    "test_loader = torch.utils.data.DataLoader(\n",
    "                dataset=test_set,\n",
    "                batch_size=batch_size,\n",
    "                shuffle=False)\n",
    "\n",
    "model = SimpleCNN()\n",
    "criterion = nn.CrossEntropyLoss()\n",
    "optimizer = optim.Adam(model.parameters(), lr=1e-2)\n",
    "\n",
    "def run_model(loader, train=False, optimizer=None):\n",
    "    avg_loss, avg_acc = 0, 0\n",
    "    for i, (X, y) in enumerate(loader):\n",
    "        if train:\n",
    "            optimizer.zero_grad()\n",
    "        X, y = Variable(X), Variable(y)\n",
    "\n",
    "        y_hat = model(X)\n",
    "        loss = criterion(y_hat, y)\n",
    "        \n",
    "        if train:\n",
    "            loss.backward()\n",
    "            optimizer.step()\n",
    "\n",
    "        pred = np.argmax(y_hat.data.numpy(), axis=1)\n",
    "        acc = float(len(np.where(pred == y.data.numpy())[0]))\n",
    "        acc /= batch_size\n",
    "\n",
    "        avg_loss += loss.data[0]\n",
    "        avg_acc += acc\n",
    "    \n",
    "    avg_loss /= (i+1)\n",
    "    avg_acc /= (i+1)\n",
    "    return avg_loss, avg_acc\n",
    "        \n",
    "train_loss, train_acc = run_model(train_loader, \n",
    "                                  train=True, \n",
    "                                  optimizer=optimizer)\n",
    "print(\"Average train loss and accuracy: %f, %f\" \n",
    "                      % (train_loss, train_acc))\n",
    "\n",
    "test_loss, test_acc = run_model(test_loader)\n",
    "print(\"Average test loss and accuracy: %f, %f\" \n",
    "                      % (test_loss, test_acc))"
   ]
  },
  {
   "cell_type": "code",
   "execution_count": null,
   "metadata": {},
   "outputs": [],
   "source": []
  }
 ],
 "metadata": {
  "kernelspec": {
   "display_name": "Python 3",
   "language": "python",
   "name": "python3"
  },
  "language_info": {
   "codemirror_mode": {
    "name": "ipython",
    "version": 3
   },
   "file_extension": ".py",
   "mimetype": "text/x-python",
   "name": "python",
   "nbconvert_exporter": "python",
   "pygments_lexer": "ipython3",
   "version": "3.6.2"
  }
 },
 "nbformat": 4,
 "nbformat_minor": 2
}
